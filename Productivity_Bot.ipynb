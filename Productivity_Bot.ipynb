{
  "nbformat": 4,
  "nbformat_minor": 0,
  "metadata": {
    "colab": {
      "provenance": [],
      "authorship_tag": "ABX9TyNjlt8gJB01SQRjDs4j1XDq",
      "include_colab_link": true
    },
    "kernelspec": {
      "name": "python3",
      "display_name": "Python 3"
    },
    "language_info": {
      "name": "python"
    }
  },
  "cells": [
    {
      "cell_type": "markdown",
      "metadata": {
        "id": "view-in-github",
        "colab_type": "text"
      },
      "source": [
        "<a href=\"https://colab.research.google.com/github/Vidyen2024/Personalized_Productivity_Bot/blob/main/Productivity_Bot.ipynb\" target=\"_parent\"><img src=\"https://colab.research.google.com/assets/colab-badge.svg\" alt=\"Open In Colab\"/></a>"
      ]
    },
    {
      "cell_type": "code",
      "execution_count": 3,
      "metadata": {
        "id": "I62paHHf0az7",
        "colab": {
          "base_uri": "https://localhost:8080/"
        },
        "outputId": "c9dfdcd6-cbb8-4cc4-b0d0-3b0731261aa0"
      },
      "outputs": [
        {
          "output_type": "stream",
          "name": "stdout",
          "text": [
            "Hello! I'm ProductivityBot. How can I help you stay productive today?\n",
            "Type 'exit' to end the conversation.\n",
            "\n",
            "You: tell me something nice\n",
            "ProductivityBot: I'm not sure how to help with that. Try asking about 'focus' or 'motivation'.\n",
            "You: I want to focus on something\n",
            "ProductivityBot: Eliminate distractions by turning off notifications and creating a dedicated workspace.\n",
            "You: exit\n",
            "Goodbye! Stay productive!\n"
          ]
        }
      ],
      "source": [
        "# A simple rule-based chatbot for productivity\n",
        "import random\n",
        "\n",
        "# Predefined responses for common queries\n",
        "responses = {\n",
        "    \"focus\": [\n",
        "        \"Try the Pomodoro technique: 25 minutes of work followed by a 5-minute break.\",\n",
        "        \"Eliminate distractions by turning off notifications and creating a dedicated workspace.\",\n",
        "        \"Start with the hardest task first to build momentum for the day.\"\n",
        "    ],\n",
        "    \"time management\": [\n",
        "        \"Plan your day the night before and allocate specific times for each task.\",\n",
        "        \"Use time-blocking: assign specific time slots for focused work, breaks, and meetings.\",\n",
        "        \"The 2-minute rule: If a task takes less than 2 minutes, do it immediately.\"\n",
        "    ],\n",
        "    \"motivation\": [\n",
        "        \"Take a 10-minute walk, listen to your favorite song, or start with a small, achievable task.\",\n",
        "        \"'The secret of getting ahead is getting started.' – Mark Twain\",\n",
        "        \"'You don’t have to be great to start, but you have to start to be great.' – Zig Ziglar\"\n",
        "    ],\n",
        "    \"default\": [\n",
        "        \"I'm here to help with productivity tips! Try asking about 'focus', 'time management', or 'motivation'.\",\n",
        "        \"I'm not sure how to help with that. Try asking about 'focus' or 'motivation'.\"\n",
        "    ]\n",
        "}\n",
        "\n",
        "# Chat function\n",
        "def productivity_bot():\n",
        "    print(\"Hello! I'm ProductivityBot. How can I help you stay productive today?\")\n",
        "    print(\"Type 'exit' to end the conversation.\\n\")\n",
        "\n",
        "    while True:\n",
        "        user_input = input(\"You: \").lower()\n",
        "\n",
        "        if user_input == \"exit\":\n",
        "            print(\"Goodbye! Stay productive!\")\n",
        "            break\n",
        "\n",
        "        # Find the best response based on keywords\n",
        "        if \"focus\" in user_input:\n",
        "            print(\"ProductivityBot:\", random.choice(responses[\"focus\"]))\n",
        "        elif \"time\" in user_input or \"manage\" in user_input:\n",
        "            print(\"ProductivityBot:\", random.choice(responses[\"time management\"]))\n",
        "        elif \"motivate\" in user_input or \"motivation\" in user_input:\n",
        "            print(\"ProductivityBot:\", random.choice(responses[\"motivation\"]))\n",
        "        else:\n",
        "            print(\"ProductivityBot:\", random.choice(responses[\"default\"]))\n",
        "\n",
        "# Start the chatbot\n",
        "productivity_bot()"
      ]
    }
  ]
}